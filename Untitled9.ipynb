{
  "nbformat": 4,
  "nbformat_minor": 0,
  "metadata": {
    "colab": {
      "provenance": []
    },
    "kernelspec": {
      "name": "python3",
      "display_name": "Python 3"
    },
    "language_info": {
      "name": "python"
    }
  },
  "cells": [
    {
      "cell_type": "code",
      "source": [
        "import numpy as np\n",
        "\n",
        "\n",
        "def gauss_jordan(matriz):\n",
        "    filas, columnas = matriz.shape\n",
        "\n",
        "    for i in range(filas):\n",
        "\n",
        "        pivote = matriz[i, i]\n",
        "        matriz[i] = matriz[i] / pivote\n",
        "\n",
        "\n",
        "        for j in range(filas):\n",
        "            if i != j:\n",
        "                factor = matriz[j, i]\n",
        "                matriz[j] = matriz[j] - factor * matriz[i]\n",
        "\n",
        "    return matriz\n",
        "\n",
        "matriz = np.array([[1, 1, 0, 2.5],\n",
        "                   [3, 4, 3, 11.5],\n",
        "                   [4, 1, 0, 15]],\n",
        "                   dtype=float)\n",
        "\n",
        "solucion = gauss_jordan(matriz)\n",
        "\n",
        "print(\"Matriz escalonada reducida:\")\n",
        "print(solucion)\n",
        "\n",
        "print(\"x =\", solucion[0, -1])\n",
        "print(\"y =\", solucion[1, -1])\n",
        "print(\"h =\", solucion[2, -1])"
      ],
      "metadata": {
        "id": "G8Y_joIz5Cu0"
      },
      "execution_count": null,
      "outputs": []
    },
    {
      "cell_type": "code",
      "source": [
        "\n",
        "def vector_dot_product():\n",
        "\n",
        "    n = int(input(\"Introduzca la longitud de los vectores: \"))\n",
        "\n",
        "    print(\"Introduce los elementos del primer vector:\")\n",
        "    vector1 = [float(input(f\"Elemento {i+1}: \")) for i in range(n)]\n",
        "\n",
        "    print(\"Introduce los elementos del segundo vector:\")\n",
        "    vector2 = [float(input(f\"Elemento {i+1}: \")) for i in range(n)]\n",
        "\n",
        "    dot_product = sum(vector1[i] * vector2[i] for i in range(n))\n",
        "\n",
        "    print(f\"El peoducto del vector es: {dot_product}\")\n",
        "\n",
        "vector_dot_product()"
      ],
      "metadata": {
        "collapsed": true,
        "id": "jf2BqBne3mcL"
      },
      "execution_count": null,
      "outputs": []
    },
    {
      "cell_type": "code",
      "source": [
        "import numpy as np\n",
        "\n",
        "\n",
        "def matriz_operacion():\n",
        "\n",
        "    rows_A = int(input(\"Ingrese el número de filas para la matriz A: \"))\n",
        "    cols_A = int(input(\"Ingrese el número de columnas para la matriz A: \"))\n",
        "\n",
        "\n",
        "    rows_B = int(input(\"Ingrese el número de filas para la matriz B: \"))\n",
        "    cols_B = int(input(\"Ingrese el número de columnas para la matriz A:  \"))\n",
        "\n",
        "\n",
        "    print(\"Introduce los elementos de la matriz A: \")\n",
        "    A = np.array([[float(input(f\"Elemento [{i+1},{j+1}]: \")) for j in range(cols_A)] for i in range(rows_A)])\n",
        "\n",
        "    print(\"Introduce los elementos de la matriz B: \")\n",
        "    B = np.array([[float(input(f\"Element [{i+1},{j+1}]: \")) for j in range(cols_B)] for i in range(rows_B)])\n",
        "\n",
        "\n",
        "    print(\"\\nResults:\")\n",
        "\n",
        "\n",
        "    print(\"3A:\")\n",
        "    print(3 * A)\n",
        "\n",
        "\n",
        "    print(\"\\n4B:\")\n",
        "    print(4 * B)\n",
        "\n",
        "\n",
        "    if A.shape == B.shape:\n",
        "        print(\"\\nA + B:\")\n",
        "        print(A + B)\n",
        "    else:\n",
        "        print(\"\\nA + B: Cannot be performed. Matrices have different dimensions.\")\n",
        "\n",
        "\n",
        "    if cols_B == rows_A:\n",
        "        print(\"\\nB x A:\")\n",
        "        print(np.dot(B, A))\n",
        "    else:\n",
        "        print(\"\\nB x A: Cannot be performed. The number of columns in B does not match the number of rows in A.\")\n",
        "\n",
        "\n",
        "matriz_operacion4()\n"
      ],
      "metadata": {
        "id": "jmh6iHI27ZRd"
      },
      "execution_count": null,
      "outputs": []
    }
  ]
}