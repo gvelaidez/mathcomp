{
  "nbformat": 4,
  "nbformat_minor": 0,
  "metadata": {
    "colab": {
      "provenance": []
    },
    "kernelspec": {
      "name": "python3",
      "display_name": "Python 3"
    },
    "language_info": {
      "name": "python"
    }
  },
  "cells": [
    {
      "cell_type": "markdown",
      "source": [
        "**Ejercicio #1 Aproximación de la serie de Taylor**"
      ],
      "metadata": {
        "id": "xSk-NHkTMTfu"
      }
    },
    {
      "cell_type": "code",
      "execution_count": 2,
      "metadata": {
        "colab": {
          "base_uri": "https://localhost:8080/"
        },
        "id": "rZtz4dCPMNze",
        "outputId": "7de051c0-3a8e-4f2f-b08e-748465024519"
      },
      "outputs": [
        {
          "output_type": "stream",
          "name": "stdout",
          "text": [
            "Aproximación de Taylor de segundo orden en x = 1 y h = 0.125: 1.59375000000000\n",
            "Residuo de segundo orden en x = 1 y h = 0.125: 0.00781250000000000\n"
          ]
        }
      ],
      "source": [
        "import sympy as sp\n",
        "\n",
        "# Definir variables y función\n",
        "x, h = sp.symbols('x h')\n",
        "f = x**4\n",
        "\n",
        "# Calcular los valores de f(x), f'(x) y f''(x) en x = 1\n",
        "x_val = 1\n",
        "h_val = 0.125\n",
        "\n",
        "# Valor de f(1)\n",
        "f_x = f.subs(x, x_val)\n",
        "\n",
        "# Primera derivada y su valor en x = 1\n",
        "f_prime = sp.diff(f, x)\n",
        "f_prime_x = f_prime.subs(x, x_val)\n",
        "\n",
        "# Segunda derivada y su valor en x = 1\n",
        "f_double_prime = sp.diff(f_prime, x)\n",
        "f_double_prime_x = f_double_prime.subs(x, x_val)\n",
        "\n",
        "# Aproximación de Taylor de segundo orden: f(x + h) ≈ f(x) + f'(x) * h + (f''(x) / 2) * h^2\n",
        "approximation = f_x + f_prime_x * h + (f_double_prime_x / 2) * h**2\n",
        "\n",
        "# Sustitución del valor de h para obtener el resultado numérico\n",
        "approximation_value = approximation.subs(h, h_val)\n",
        "print(f\"Aproximación de Taylor de segundo orden en x = 1 y h = 0.125: {approximation_value}\")\n",
        "\n",
        "# Cálculo del residuo de segundo orden: R_2 = (f'''(1) / 6) * h^3\n",
        "# Tercera derivada y su valor en x = 1\n",
        "f_triple_prime = sp.diff(f_double_prime, x)\n",
        "f_triple_prime_x = f_triple_prime.subs(x, x_val)\n",
        "\n",
        "# Residuos\n",
        "residual = (f_triple_prime_x / 6) * h**3\n",
        "residual_value = residual.subs(h, h_val)\n",
        "print(f\"Residuo de segundo orden en x = 1 y h = 0.125: {residual_value}\")"
      ]
    },
    {
      "cell_type": "markdown",
      "source": [
        "**Ejercicio #2**"
      ],
      "metadata": {
        "id": "zonHHEenMxWF"
      }
    },
    {
      "cell_type": "code",
      "source": [
        "import math\n",
        "\n",
        "# Parámetros\n",
        "x = 0.85\n",
        "tolerance = 1e-8\n",
        "\n",
        "# Primera Aproximación\n",
        "def taylor_series_exp_minus_x(x, tolerance):\n",
        "    term = 1  # Primer término (1)\n",
        "    approximation = term\n",
        "    n = 1\n",
        "    error = float('inf')\n",
        "\n",
        "    # Iterar hasta que el error relativo aproximado sea menor que la tolerancia\n",
        "    while error > tolerance:\n",
        "        prev_approximation = approximation\n",
        "        term *= -x / n  # Calcular siguiente término de la serie\n",
        "        approximation += term\n",
        "        error = abs((approximation - prev_approximation) / approximation)  # Error relativo\n",
        "        n += 1\n",
        "\n",
        "    return approximation, error * 100, n  # error en porcentaje y número de términos usados\n",
        "\n",
        "# Segunda Aproximación\n",
        "def taylor_series_exp_minus_x_fraction(x, tolerance):\n",
        "    term = 1  # Primer término (1 en el denominador)\n",
        "    denominator = term\n",
        "    n = 1\n",
        "    error = float('inf')\n",
        "\n",
        "    # Iterar hasta que el error relativo aproximado sea menor que la tolerancia\n",
        "    while error > tolerance:\n",
        "        prev_denominator = denominator\n",
        "        term *= x / n  # Calcular siguiente término del denominador\n",
        "        denominator += term\n",
        "        error = abs((denominator - prev_denominator) / denominator)  # Error relativo\n",
        "        n += 1\n",
        "\n",
        "    approximation = 1 / denominator\n",
        "    return approximation, error * 100, n  # error en porcentaje y número de términos usados\n",
        "\n",
        "# Calcular ambas aproximaciones\n",
        "approx1, error1, iterations1 = taylor_series_exp_minus_x(x, tolerance)\n",
        "approx2, error2, iterations2 = taylor_series_exp_minus_x_fraction(x, tolerance)\n",
        "\n",
        "# Imprimir resultados\n",
        "print(\"Primera Aproximación:\")\n",
        "print(f\"Valor aproximado: {approx1}\")\n",
        "print(f\"Error relativo aproximado (%): {error1}\")\n",
        "print(f\"Número de iteraciones: {iterations1}\")\n",
        "\n",
        "print(\"\\nSegunda Aproximación:\")\n",
        "print(f\"Valor aproximado: {approx2}\")\n",
        "print(f\"Error relativo aproximado (%): {error2}\")\n",
        "print(f\"Número de iteraciones: {iterations2}\")\n",
        "\n",
        "# Valor real para comparar\n",
        "real_value = math.exp(-x)\n",
        "print(\"\\nValor real (math.exp(-x)):\", real_value)\n"
      ],
      "metadata": {
        "colab": {
          "base_uri": "https://localhost:8080/"
        },
        "id": "t3YfPRKPM53l",
        "outputId": "5dbea8cf-7319-4ccb-a2ef-bee70f4f4f43"
      },
      "execution_count": 3,
      "outputs": [
        {
          "output_type": "stream",
          "name": "stdout",
          "text": [
            "Primera Aproximación:\n",
            "Valor aproximado: 0.42741493167007283\n",
            "Error relativo aproximado (%): 9.808503988092249e-07\n",
            "Número de iteraciones: 12\n",
            "\n",
            "Segunda Aproximación:\n",
            "Valor aproximado: 0.42741493200675057\n",
            "Error relativo aproximado (%): 1.7918521207576368e-07\n",
            "Número de iteraciones: 12\n",
            "\n",
            "Valor real (math.exp(-x)): 0.4274149319487267\n"
          ]
        }
      ]
    },
    {
      "cell_type": "markdown",
      "source": [
        "**Ejercicio #3**"
      ],
      "metadata": {
        "id": "n4IvMOGYNnqF"
      }
    },
    {
      "cell_type": "code",
      "source": [
        "import math\n",
        "\n",
        "# Función para calcular la aproximación de Taylor hasta el tercer orden\n",
        "def taylor_approximation(f, df1, df2, df3, a, x):\n",
        "    h = x - a\n",
        "    # Expansión de Taylor hasta el tercer orden\n",
        "    return f(a) + df1(a) * h + (df2(a) / 2) * h**2 + (df3(a) / 6) * h**3\n",
        "\n",
        "# Primer ejercicio: f(x) = 1.1*x**3 - 1.6*x**2 + 3*x - 5, punto base x = 0.5, predicción en x = 0.6\n",
        "def f1(x):\n",
        "    return 1.1 * x**3 - 1.6 * x**2 + 3 * x - 5\n",
        "\n",
        "def df1_f1(x):\n",
        "    return 3.3 * x**2 - 3.2 * x + 3\n",
        "\n",
        "def df2_f1(x):\n",
        "    return 6.6 * x - 3.2\n",
        "\n",
        "def df3_f1(x):\n",
        "    return 6.6\n",
        "\n",
        "# Aproximación para f1 en x = 0.6 usando base x = 0.5\n",
        "a1 = 0.5\n",
        "x1 = 0.6\n",
        "approx1 = taylor_approximation(f1, df1_f1, df2_f1, df3_f1, a1, x1)\n",
        "print(f\"Primera Aproximación para f(0.6): {approx1}\")\n",
        "\n",
        "# Segundo ejercicio: f(x) = 1.6 * math.exp(x) - 4.2 * x + 2.75, punto base x = 0.4, predicción en x = 0.45\n",
        "def f2(x):\n",
        "    return 1.6 * math.exp(x) - 4.2 * x + 2.75\n",
        "\n",
        "def df1_f2(x):\n",
        "    return 1.6 * math.exp(x) - 4.2\n",
        "\n",
        "def df2_f2(x):\n",
        "    return 1.6 * math.exp(x)\n",
        "\n",
        "def df3_f2(x):\n",
        "    return 1.6 * math.exp(x)\n",
        "\n",
        "# Aproximación para f2 en x = 0.45 usando base x = 0.4\n",
        "a2 = 0.4\n",
        "x2 = 0.45\n",
        "approx2 = taylor_approximation(f2, df1_f2, df2_f2, df3_f2, a2, x2)\n",
        "print(f\"Segunda Aproximación para f(0.45): {approx2}\")\n"
      ],
      "metadata": {
        "id": "myJqsHdINry8",
        "outputId": "4be7bea1-e457-4417-f907-b4b25fa3729b",
        "colab": {
          "base_uri": "https://localhost:8080/"
        }
      },
      "execution_count": 4,
      "outputs": [
        {
          "output_type": "stream",
          "name": "stdout",
          "text": [
            "Primera Aproximación para f(0.6): -3.5383999999999998\n",
            "Segunda Aproximación para f(0.45): 3.369298868922538\n"
          ]
        }
      ]
    }
  ]
}