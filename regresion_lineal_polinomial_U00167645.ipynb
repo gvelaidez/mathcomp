{
  "nbformat": 4,
  "nbformat_minor": 0,
  "metadata": {
    "colab": {
      "provenance": []
    },
    "kernelspec": {
      "name": "python3",
      "display_name": "Python 3"
    },
    "language_info": {
      "name": "python"
    }
  },
  "cells": [
    {
      "cell_type": "markdown",
      "source": [
        "\n",
        "\n",
        "**Regresion lineal polinomial - Gabriel Andres Velaidez**\n",
        "\n"
      ],
      "metadata": {
        "id": "qrVlpA0VFCKb"
      }
    },
    {
      "cell_type": "code",
      "execution_count": 1,
      "metadata": {
        "colab": {
          "base_uri": "https://localhost:8080/"
        },
        "id": "GtF6RBK7EJyT",
        "outputId": "874993d1-efd9-47cd-d8ba-4a5ce3266ebb"
      },
      "outputs": [
        {
          "output_type": "stream",
          "name": "stdout",
          "text": [
            "Intercepto: 3.4351063829787227\n",
            "Coeficientes: [-1.03546099  0.51241135]\n",
            "Coeficiente de correlación (r): 0.9232434782326037\n"
          ]
        }
      ],
      "source": [
        "import numpy as np\n",
        "\n",
        "# Datos de la tabla\n",
        "valores_x = np.array([0, 1, 2, 3, 4, 5, 6])\n",
        "valores_y = np.array([-0.9, 0, 2, 4.5, 8.3, 13, 18])\n",
        "\n",
        "# Ajuste de un polinomio de segundo grado (ax^2 + bx + c)\n",
        "# np.polyfit devuelve los coeficientes a, b y c del polinomio de segundo grado\n",
        "coeficientes_polinomio = np.polyfit(valores_x, valores_y, 2)\n",
        "\n",
        "# Extraemos los coeficientes a, b y c para imprimirlos\n",
        "coef_a = coeficientes_polinomio[0]\n",
        "coef_b = coeficientes_polinomio[1]\n",
        "coef_c = coeficientes_polinomio[2]\n",
        "\n",
        "print(\"Coeficientes del polinomio de segundo grado:\")\n",
        "print(f\"a: {coef_a}\")\n",
        "print(f\"b: {coef_b}\")\n",
        "print(f\"c: {coef_c}\")\n",
        "\n",
        "# Crear el polinomio a partir de los coeficientes\n",
        "# Esto nos permite usar el polinomio para hacer predicciones\n",
        "polinomio = np.poly1d(coeficientes_polinomio)\n",
        "\n",
        "# Calcular los valores ajustados (predichos) de y usando el polinomio\n",
        "valores_y_ajustados = polinomio(valores_x)\n",
        "\n",
        "# Calcular el coeficiente de correlación de Pearson entre los valores reales y los ajustados\n",
        "matriz_correlacion = np.corrcoef(valores_y, valores_y_ajustados)\n",
        "coeficiente_correlacion = matriz_correlacion[0, 1]\n",
        "\n",
        "print(f\"Coeficiente de correlación (r): {coeficiente_correlacion}\")\n"
      ]
    }
  ]
}